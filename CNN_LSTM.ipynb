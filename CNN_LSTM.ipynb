{
 "cells": [
  {
   "cell_type": "code",
   "execution_count": 1,
   "metadata": {},
   "outputs": [
    {
     "name": "stdout",
     "output_type": "stream",
     "text": [
      "WARNING:tensorflow:From d:\\Aplikasi\\Program\\python\\lib\\site-packages\\keras\\src\\losses.py:2976: The name tf.losses.sparse_softmax_cross_entropy is deprecated. Please use tf.compat.v1.losses.sparse_softmax_cross_entropy instead.\n",
      "\n"
     ]
    }
   ],
   "source": [
    "import pandas as pd\n",
    "import numpy as np\n",
    "from keras.preprocessing import sequence\n",
    "from keras.layers import TimeDistributed, GlobalAveragePooling1D, GlobalAveragePooling2D, BatchNormalization\n",
    "from keras.layers import LSTM\n",
    "from keras.layers import Conv1D, MaxPooling1D, Conv2D, MaxPooling2D, AveragePooling1D\n",
    "from keras.layers import Embedding\n",
    "from keras.layers import Dropout, Flatten, Bidirectional, Dense, Activation, TimeDistributed\n",
    "from keras.models import Model, Sequential\n",
    "from keras.utils import to_categorical\n",
    "from sklearn.model_selection import train_test_split\n",
    "from sklearn.preprocessing import LabelEncoder\n",
    "from nltk.corpus import stopwords\n",
    "from nltk.tokenize import word_tokenize, sent_tokenize\n",
    "from nltk.stem.wordnet import WordNetLemmatizer\n",
    "from string import ascii_lowercase\n",
    "from collections import Counter\n",
    "from gensim.models import Word2Vec\n",
    "from gensim.models import Doc2Vec\n",
    "from gensim.models.doc2vec import TaggedDocument\n",
    "from gensim.models import KeyedVectors\n",
    "import itertools, nltk, snowballstemmer, re\n",
    "\n",
    "LabeledSentence = TaggedDocument"
   ]
  },
  {
   "cell_type": "code",
   "execution_count": 2,
   "metadata": {},
   "outputs": [],
   "source": [
    "import random\n",
    "\n",
    "class LabeledLineSentence(object):\n",
    "    def __init__(self, sources):\n",
    "        self.sources = sources\n",
    "        \n",
    "        flipped = {}\n",
    "        \n",
    "        # make sure that keys are unique\n",
    "        for key, value in sources.items():\n",
    "            if value not in flipped:\n",
    "                flipped[value] = [key]\n",
    "            else:\n",
    "                raise Exception('Non-unique prefix encountered')\n",
    "    \n",
    "    def __iter__(self):\n",
    "        for source, prefix in self.sources.items():\n",
    "            with to_categorical.smart_open(source) as fin:\n",
    "                for item_no, line in enumerate(fin):\n",
    "                    yield LabeledSentence(to_categorical.to_unicode(line).split(), [prefix + '_%s' % item_no])\n",
    "    \n",
    "    def to_array(self):\n",
    "        self.sentences = []\n",
    "        for source, prefix in self.sources.items():\n",
    "            with to_categorical.smart_open(source) as fin:\n",
    "                for item_no, line in enumerate(fin):\n",
    "                    self.sentences.append(LabeledSentence(to_categorical.to_unicode(line).split(), [prefix + '_%s' % item_no]))\n",
    "        return self.sentences\n",
    "    \n",
    "    def sentences_perm(self):\n",
    "        shuffled = list(self.sentences)\n",
    "        random.shuffle(shuffled)\n",
    "        return shuffled"
   ]
  },
  {
   "cell_type": "code",
   "execution_count": 3,
   "metadata": {},
   "outputs": [],
   "source": [
    "data = pd.read_csv(\"dataset/deceptive-opinion.csv\")"
   ]
  },
  {
   "cell_type": "code",
   "execution_count": 4,
   "metadata": {},
   "outputs": [],
   "source": [
    "data['polarity'] = np.where(data['polarity']=='positive', 1, 0)\n",
    "data['deceptive'] = np.where(data['deceptive']=='truthful', 1, 0)"
   ]
  },
  {
   "cell_type": "code",
   "execution_count": 5,
   "metadata": {},
   "outputs": [
    {
     "data": {
      "text/html": [
       "<div>\n",
       "<style scoped>\n",
       "    .dataframe tbody tr th:only-of-type {\n",
       "        vertical-align: middle;\n",
       "    }\n",
       "\n",
       "    .dataframe tbody tr th {\n",
       "        vertical-align: top;\n",
       "    }\n",
       "\n",
       "    .dataframe thead th {\n",
       "        text-align: right;\n",
       "    }\n",
       "</style>\n",
       "<table border=\"1\" class=\"dataframe\">\n",
       "  <thead>\n",
       "    <tr style=\"text-align: right;\">\n",
       "      <th></th>\n",
       "      <th>deceptive</th>\n",
       "      <th>hotel</th>\n",
       "      <th>polarity</th>\n",
       "      <th>source</th>\n",
       "      <th>text</th>\n",
       "    </tr>\n",
       "  </thead>\n",
       "  <tbody>\n",
       "    <tr>\n",
       "      <th>0</th>\n",
       "      <td>1</td>\n",
       "      <td>conrad</td>\n",
       "      <td>1</td>\n",
       "      <td>TripAdvisor</td>\n",
       "      <td>We stayed for a one night getaway with family ...</td>\n",
       "    </tr>\n",
       "    <tr>\n",
       "      <th>1</th>\n",
       "      <td>1</td>\n",
       "      <td>hyatt</td>\n",
       "      <td>1</td>\n",
       "      <td>TripAdvisor</td>\n",
       "      <td>Triple A rate with upgrade to view room was le...</td>\n",
       "    </tr>\n",
       "    <tr>\n",
       "      <th>2</th>\n",
       "      <td>1</td>\n",
       "      <td>hyatt</td>\n",
       "      <td>1</td>\n",
       "      <td>TripAdvisor</td>\n",
       "      <td>This comes a little late as I'm finally catchi...</td>\n",
       "    </tr>\n",
       "    <tr>\n",
       "      <th>3</th>\n",
       "      <td>1</td>\n",
       "      <td>omni</td>\n",
       "      <td>1</td>\n",
       "      <td>TripAdvisor</td>\n",
       "      <td>The Omni Chicago really delivers on all fronts...</td>\n",
       "    </tr>\n",
       "    <tr>\n",
       "      <th>4</th>\n",
       "      <td>1</td>\n",
       "      <td>hyatt</td>\n",
       "      <td>1</td>\n",
       "      <td>TripAdvisor</td>\n",
       "      <td>I asked for a high floor away from the elevato...</td>\n",
       "    </tr>\n",
       "  </tbody>\n",
       "</table>\n",
       "</div>"
      ],
      "text/plain": [
       "   deceptive   hotel  polarity       source  \\\n",
       "0          1  conrad         1  TripAdvisor   \n",
       "1          1   hyatt         1  TripAdvisor   \n",
       "2          1   hyatt         1  TripAdvisor   \n",
       "3          1    omni         1  TripAdvisor   \n",
       "4          1   hyatt         1  TripAdvisor   \n",
       "\n",
       "                                                text  \n",
       "0  We stayed for a one night getaway with family ...  \n",
       "1  Triple A rate with upgrade to view room was le...  \n",
       "2  This comes a little late as I'm finally catchi...  \n",
       "3  The Omni Chicago really delivers on all fronts...  \n",
       "4  I asked for a high floor away from the elevato...  "
      ]
     },
     "execution_count": 5,
     "metadata": {},
     "output_type": "execute_result"
    }
   ],
   "source": [
    "data.head()"
   ]
  },
  {
   "cell_type": "code",
   "execution_count": 6,
   "metadata": {},
   "outputs": [],
   "source": [
    "df = data.sample(frac=1)"
   ]
  },
  {
   "cell_type": "code",
   "execution_count": 7,
   "metadata": {},
   "outputs": [
    {
     "data": {
      "text/html": [
       "<div>\n",
       "<style scoped>\n",
       "    .dataframe tbody tr th:only-of-type {\n",
       "        vertical-align: middle;\n",
       "    }\n",
       "\n",
       "    .dataframe tbody tr th {\n",
       "        vertical-align: top;\n",
       "    }\n",
       "\n",
       "    .dataframe thead th {\n",
       "        text-align: right;\n",
       "    }\n",
       "</style>\n",
       "<table border=\"1\" class=\"dataframe\">\n",
       "  <thead>\n",
       "    <tr style=\"text-align: right;\">\n",
       "      <th></th>\n",
       "      <th>deceptive</th>\n",
       "      <th>hotel</th>\n",
       "      <th>polarity</th>\n",
       "      <th>source</th>\n",
       "      <th>text</th>\n",
       "    </tr>\n",
       "  </thead>\n",
       "  <tbody>\n",
       "    <tr>\n",
       "      <th>618</th>\n",
       "      <td>0</td>\n",
       "      <td>hardrock</td>\n",
       "      <td>1</td>\n",
       "      <td>MTurk</td>\n",
       "      <td>Hard Rock Hotel is a must to visit. No matter ...</td>\n",
       "    </tr>\n",
       "    <tr>\n",
       "      <th>1084</th>\n",
       "      <td>1</td>\n",
       "      <td>hilton</td>\n",
       "      <td>0</td>\n",
       "      <td>Web</td>\n",
       "      <td>I stayed at the Hilton Chicago because I was a...</td>\n",
       "    </tr>\n",
       "    <tr>\n",
       "      <th>1074</th>\n",
       "      <td>1</td>\n",
       "      <td>james</td>\n",
       "      <td>0</td>\n",
       "      <td>Web</td>\n",
       "      <td>My parents booked five nights at The James for...</td>\n",
       "    </tr>\n",
       "    <tr>\n",
       "      <th>986</th>\n",
       "      <td>1</td>\n",
       "      <td>hardrock</td>\n",
       "      <td>0</td>\n",
       "      <td>Web</td>\n",
       "      <td>We stayed at this Hotel in February 2010. The ...</td>\n",
       "    </tr>\n",
       "    <tr>\n",
       "      <th>318</th>\n",
       "      <td>1</td>\n",
       "      <td>james</td>\n",
       "      <td>1</td>\n",
       "      <td>TripAdvisor</td>\n",
       "      <td>My significant other and I recently spent 3 ni...</td>\n",
       "    </tr>\n",
       "  </tbody>\n",
       "</table>\n",
       "</div>"
      ],
      "text/plain": [
       "      deceptive     hotel  polarity       source  \\\n",
       "618           0  hardrock         1        MTurk   \n",
       "1084          1    hilton         0          Web   \n",
       "1074          1     james         0          Web   \n",
       "986           1  hardrock         0          Web   \n",
       "318           1     james         1  TripAdvisor   \n",
       "\n",
       "                                                   text  \n",
       "618   Hard Rock Hotel is a must to visit. No matter ...  \n",
       "1084  I stayed at the Hilton Chicago because I was a...  \n",
       "1074  My parents booked five nights at The James for...  \n",
       "986   We stayed at this Hotel in February 2010. The ...  \n",
       "318   My significant other and I recently spent 3 ni...  "
      ]
     },
     "execution_count": 7,
     "metadata": {},
     "output_type": "execute_result"
    }
   ],
   "source": [
    "df.head()"
   ]
  },
  {
   "cell_type": "code",
   "execution_count": 8,
   "metadata": {},
   "outputs": [
    {
     "data": {
      "text/html": [
       "<div>\n",
       "<style scoped>\n",
       "    .dataframe tbody tr th:only-of-type {\n",
       "        vertical-align: middle;\n",
       "    }\n",
       "\n",
       "    .dataframe tbody tr th {\n",
       "        vertical-align: top;\n",
       "    }\n",
       "\n",
       "    .dataframe thead th {\n",
       "        text-align: right;\n",
       "    }\n",
       "</style>\n",
       "<table border=\"1\" class=\"dataframe\">\n",
       "  <thead>\n",
       "    <tr style=\"text-align: right;\">\n",
       "      <th></th>\n",
       "      <th>deceptive</th>\n",
       "      <th>polarity</th>\n",
       "    </tr>\n",
       "  </thead>\n",
       "  <tbody>\n",
       "    <tr>\n",
       "      <th>count</th>\n",
       "      <td>1600.000000</td>\n",
       "      <td>1600.000000</td>\n",
       "    </tr>\n",
       "    <tr>\n",
       "      <th>mean</th>\n",
       "      <td>0.500000</td>\n",
       "      <td>0.500000</td>\n",
       "    </tr>\n",
       "    <tr>\n",
       "      <th>std</th>\n",
       "      <td>0.500156</td>\n",
       "      <td>0.500156</td>\n",
       "    </tr>\n",
       "    <tr>\n",
       "      <th>min</th>\n",
       "      <td>0.000000</td>\n",
       "      <td>0.000000</td>\n",
       "    </tr>\n",
       "    <tr>\n",
       "      <th>25%</th>\n",
       "      <td>0.000000</td>\n",
       "      <td>0.000000</td>\n",
       "    </tr>\n",
       "    <tr>\n",
       "      <th>50%</th>\n",
       "      <td>0.500000</td>\n",
       "      <td>0.500000</td>\n",
       "    </tr>\n",
       "    <tr>\n",
       "      <th>75%</th>\n",
       "      <td>1.000000</td>\n",
       "      <td>1.000000</td>\n",
       "    </tr>\n",
       "    <tr>\n",
       "      <th>max</th>\n",
       "      <td>1.000000</td>\n",
       "      <td>1.000000</td>\n",
       "    </tr>\n",
       "  </tbody>\n",
       "</table>\n",
       "</div>"
      ],
      "text/plain": [
       "         deceptive     polarity\n",
       "count  1600.000000  1600.000000\n",
       "mean      0.500000     0.500000\n",
       "std       0.500156     0.500156\n",
       "min       0.000000     0.000000\n",
       "25%       0.000000     0.000000\n",
       "50%       0.500000     0.500000\n",
       "75%       1.000000     1.000000\n",
       "max       1.000000     1.000000"
      ]
     },
     "execution_count": 8,
     "metadata": {},
     "output_type": "execute_result"
    }
   ],
   "source": [
    "df.describe()"
   ]
  },
  {
   "cell_type": "code",
   "execution_count": 9,
   "metadata": {},
   "outputs": [],
   "source": [
    "def create_class(c):\n",
    "    if c['polarity'] == 1 and c['deceptive'] == 1:\n",
    "        return [1,1]\n",
    "    elif c['polarity'] == 1 and c['deceptive'] == 0:\n",
    "        return [1,0]\n",
    "    elif c['polarity'] == 0 and c['deceptive'] == 1:\n",
    "        return [0,1]\n",
    "    else:\n",
    "        return [0,0]\n",
    "    \n",
    "def specific_class(c):\n",
    "    if c['polarity'] == 1 and c['deceptive'] == 1:\n",
    "        return \"TRUE_POSITIVE\"\n",
    "    elif c['polarity'] == 1 and c['deceptive'] == 0:\n",
    "        return \"FALSE_POSITIVE\"\n",
    "    elif c['polarity'] == 0 and c['deceptive'] == 1:\n",
    "        return \"TRUE_NEGATIVE\"\n",
    "    else:\n",
    "        return \"FALSE_NEGATIVE\"\n",
    "\n",
    "data['final_class'] = data.apply(create_class, axis=1)\n",
    "data['given_class'] = data.apply(specific_class, axis=1)"
   ]
  },
  {
   "cell_type": "code",
   "execution_count": 10,
   "metadata": {},
   "outputs": [
    {
     "data": {
      "text/plain": [
       "0       [1, 1]\n",
       "1       [1, 1]\n",
       "2       [1, 1]\n",
       "3       [1, 1]\n",
       "4       [1, 1]\n",
       "         ...  \n",
       "1595    [0, 0]\n",
       "1596    [0, 0]\n",
       "1597    [0, 0]\n",
       "1598    [0, 0]\n",
       "1599    [0, 0]\n",
       "Name: final_class, Length: 1600, dtype: object"
      ]
     },
     "execution_count": 10,
     "metadata": {},
     "output_type": "execute_result"
    }
   ],
   "source": [
    "data['final_class']"
   ]
  },
  {
   "cell_type": "code",
   "execution_count": 11,
   "metadata": {},
   "outputs": [
    {
     "data": {
      "text/html": [
       "<div>\n",
       "<style scoped>\n",
       "    .dataframe tbody tr th:only-of-type {\n",
       "        vertical-align: middle;\n",
       "    }\n",
       "\n",
       "    .dataframe tbody tr th {\n",
       "        vertical-align: top;\n",
       "    }\n",
       "\n",
       "    .dataframe thead th {\n",
       "        text-align: right;\n",
       "    }\n",
       "</style>\n",
       "<table border=\"1\" class=\"dataframe\">\n",
       "  <thead>\n",
       "    <tr style=\"text-align: right;\">\n",
       "      <th></th>\n",
       "      <th>deceptive</th>\n",
       "      <th>hotel</th>\n",
       "      <th>polarity</th>\n",
       "      <th>source</th>\n",
       "      <th>text</th>\n",
       "      <th>final_class</th>\n",
       "      <th>given_class</th>\n",
       "    </tr>\n",
       "  </thead>\n",
       "  <tbody>\n",
       "    <tr>\n",
       "      <th>0</th>\n",
       "      <td>1</td>\n",
       "      <td>conrad</td>\n",
       "      <td>1</td>\n",
       "      <td>TripAdvisor</td>\n",
       "      <td>We stayed for a one night getaway with family ...</td>\n",
       "      <td>[1, 1]</td>\n",
       "      <td>TRUE_POSITIVE</td>\n",
       "    </tr>\n",
       "    <tr>\n",
       "      <th>1</th>\n",
       "      <td>1</td>\n",
       "      <td>hyatt</td>\n",
       "      <td>1</td>\n",
       "      <td>TripAdvisor</td>\n",
       "      <td>Triple A rate with upgrade to view room was le...</td>\n",
       "      <td>[1, 1]</td>\n",
       "      <td>TRUE_POSITIVE</td>\n",
       "    </tr>\n",
       "    <tr>\n",
       "      <th>2</th>\n",
       "      <td>1</td>\n",
       "      <td>hyatt</td>\n",
       "      <td>1</td>\n",
       "      <td>TripAdvisor</td>\n",
       "      <td>This comes a little late as I'm finally catchi...</td>\n",
       "      <td>[1, 1]</td>\n",
       "      <td>TRUE_POSITIVE</td>\n",
       "    </tr>\n",
       "    <tr>\n",
       "      <th>3</th>\n",
       "      <td>1</td>\n",
       "      <td>omni</td>\n",
       "      <td>1</td>\n",
       "      <td>TripAdvisor</td>\n",
       "      <td>The Omni Chicago really delivers on all fronts...</td>\n",
       "      <td>[1, 1]</td>\n",
       "      <td>TRUE_POSITIVE</td>\n",
       "    </tr>\n",
       "    <tr>\n",
       "      <th>4</th>\n",
       "      <td>1</td>\n",
       "      <td>hyatt</td>\n",
       "      <td>1</td>\n",
       "      <td>TripAdvisor</td>\n",
       "      <td>I asked for a high floor away from the elevato...</td>\n",
       "      <td>[1, 1]</td>\n",
       "      <td>TRUE_POSITIVE</td>\n",
       "    </tr>\n",
       "  </tbody>\n",
       "</table>\n",
       "</div>"
      ],
      "text/plain": [
       "   deceptive   hotel  polarity       source  \\\n",
       "0          1  conrad         1  TripAdvisor   \n",
       "1          1   hyatt         1  TripAdvisor   \n",
       "2          1   hyatt         1  TripAdvisor   \n",
       "3          1    omni         1  TripAdvisor   \n",
       "4          1   hyatt         1  TripAdvisor   \n",
       "\n",
       "                                                text final_class  \\\n",
       "0  We stayed for a one night getaway with family ...      [1, 1]   \n",
       "1  Triple A rate with upgrade to view room was le...      [1, 1]   \n",
       "2  This comes a little late as I'm finally catchi...      [1, 1]   \n",
       "3  The Omni Chicago really delivers on all fronts...      [1, 1]   \n",
       "4  I asked for a high floor away from the elevato...      [1, 1]   \n",
       "\n",
       "     given_class  \n",
       "0  TRUE_POSITIVE  \n",
       "1  TRUE_POSITIVE  \n",
       "2  TRUE_POSITIVE  \n",
       "3  TRUE_POSITIVE  \n",
       "4  TRUE_POSITIVE  "
      ]
     },
     "execution_count": 11,
     "metadata": {},
     "output_type": "execute_result"
    }
   ],
   "source": [
    "data.head()"
   ]
  },
  {
   "cell_type": "code",
   "execution_count": 12,
   "metadata": {},
   "outputs": [],
   "source": [
    "from sklearn import preprocessing \n",
    "  \n",
    "# label_encoder object knows how to understand word labels. \n",
    "label_encoder = preprocessing.LabelEncoder() \n",
    "  \n",
    "# Encode labels in column 'species'. \n",
    "data['given_class']= label_encoder.fit_transform(data['given_class']) "
   ]
  },
  {
   "cell_type": "code",
   "execution_count": 13,
   "metadata": {},
   "outputs": [
    {
     "data": {
      "text/plain": [
       "array([3, 1, 2, 0])"
      ]
     },
     "execution_count": 13,
     "metadata": {},
     "output_type": "execute_result"
    }
   ],
   "source": [
    "data['given_class'].unique()"
   ]
  },
  {
   "cell_type": "code",
   "execution_count": 14,
   "metadata": {},
   "outputs": [],
   "source": [
    "Y = data['given_class']\n",
    "# encode class values as integers\n",
    "encoder = LabelEncoder()\n",
    "encoder.fit(Y)\n",
    "encoded_Y = encoder.transform(Y)\n",
    "# convert integers to dummy variables (i.e. one hot encoded)\n",
    "dummy_y = to_categorical(encoded_Y)"
   ]
  },
  {
   "cell_type": "code",
   "execution_count": 15,
   "metadata": {},
   "outputs": [
    {
     "data": {
      "text/html": [
       "<div>\n",
       "<style scoped>\n",
       "    .dataframe tbody tr th:only-of-type {\n",
       "        vertical-align: middle;\n",
       "    }\n",
       "\n",
       "    .dataframe tbody tr th {\n",
       "        vertical-align: top;\n",
       "    }\n",
       "\n",
       "    .dataframe thead th {\n",
       "        text-align: right;\n",
       "    }\n",
       "</style>\n",
       "<table border=\"1\" class=\"dataframe\">\n",
       "  <thead>\n",
       "    <tr style=\"text-align: right;\">\n",
       "      <th></th>\n",
       "      <th>deceptive</th>\n",
       "      <th>hotel</th>\n",
       "      <th>polarity</th>\n",
       "      <th>source</th>\n",
       "      <th>text</th>\n",
       "      <th>final_class</th>\n",
       "      <th>given_class</th>\n",
       "    </tr>\n",
       "  </thead>\n",
       "  <tbody>\n",
       "    <tr>\n",
       "      <th>0</th>\n",
       "      <td>1</td>\n",
       "      <td>conrad</td>\n",
       "      <td>1</td>\n",
       "      <td>TripAdvisor</td>\n",
       "      <td>We stayed for a one night getaway with family ...</td>\n",
       "      <td>[1, 1]</td>\n",
       "      <td>3</td>\n",
       "    </tr>\n",
       "    <tr>\n",
       "      <th>1</th>\n",
       "      <td>1</td>\n",
       "      <td>hyatt</td>\n",
       "      <td>1</td>\n",
       "      <td>TripAdvisor</td>\n",
       "      <td>Triple A rate with upgrade to view room was le...</td>\n",
       "      <td>[1, 1]</td>\n",
       "      <td>3</td>\n",
       "    </tr>\n",
       "    <tr>\n",
       "      <th>2</th>\n",
       "      <td>1</td>\n",
       "      <td>hyatt</td>\n",
       "      <td>1</td>\n",
       "      <td>TripAdvisor</td>\n",
       "      <td>This comes a little late as I'm finally catchi...</td>\n",
       "      <td>[1, 1]</td>\n",
       "      <td>3</td>\n",
       "    </tr>\n",
       "    <tr>\n",
       "      <th>3</th>\n",
       "      <td>1</td>\n",
       "      <td>omni</td>\n",
       "      <td>1</td>\n",
       "      <td>TripAdvisor</td>\n",
       "      <td>The Omni Chicago really delivers on all fronts...</td>\n",
       "      <td>[1, 1]</td>\n",
       "      <td>3</td>\n",
       "    </tr>\n",
       "    <tr>\n",
       "      <th>4</th>\n",
       "      <td>1</td>\n",
       "      <td>hyatt</td>\n",
       "      <td>1</td>\n",
       "      <td>TripAdvisor</td>\n",
       "      <td>I asked for a high floor away from the elevato...</td>\n",
       "      <td>[1, 1]</td>\n",
       "      <td>3</td>\n",
       "    </tr>\n",
       "  </tbody>\n",
       "</table>\n",
       "</div>"
      ],
      "text/plain": [
       "   deceptive   hotel  polarity       source  \\\n",
       "0          1  conrad         1  TripAdvisor   \n",
       "1          1   hyatt         1  TripAdvisor   \n",
       "2          1   hyatt         1  TripAdvisor   \n",
       "3          1    omni         1  TripAdvisor   \n",
       "4          1   hyatt         1  TripAdvisor   \n",
       "\n",
       "                                                text final_class  given_class  \n",
       "0  We stayed for a one night getaway with family ...      [1, 1]            3  \n",
       "1  Triple A rate with upgrade to view room was le...      [1, 1]            3  \n",
       "2  This comes a little late as I'm finally catchi...      [1, 1]            3  \n",
       "3  The Omni Chicago really delivers on all fronts...      [1, 1]            3  \n",
       "4  I asked for a high floor away from the elevato...      [1, 1]            3  "
      ]
     },
     "execution_count": 15,
     "metadata": {},
     "output_type": "execute_result"
    }
   ],
   "source": [
    "data.head()"
   ]
  },
  {
   "cell_type": "code",
   "execution_count": 16,
   "metadata": {},
   "outputs": [],
   "source": [
    "textData = pd.DataFrame(list(data['text']))"
   ]
  },
  {
   "cell_type": "code",
   "execution_count": 17,
   "metadata": {},
   "outputs": [],
   "source": [
    "stemmer = snowballstemmer.EnglishStemmer()\n",
    "\n",
    "# grab stopword list, extend it a bit, and then turn it into a set for later\n",
    "stop = stopwords.words('english')\n",
    "stop.extend(['may','also','zero','one','two','three','four','five','six','seven','eight','nine','ten','across','among','beside','however','yet','within']+list(ascii_lowercase))\n",
    "stoplist = stemmer.stemWords(stop)\n",
    "stoplist = set(stoplist)\n",
    "stop = set(sorted(stop + list(stoplist)))"
   ]
  },
  {
   "cell_type": "code",
   "execution_count": 18,
   "metadata": {},
   "outputs": [],
   "source": [
    "# remove characters and stoplist words, then generate dictionary of unique words\n",
    "textData[0].replace('[!\"#%\\'()*+,-./:;<=>?@\\[\\]^_`{|}~1234567890’”“′‘\\\\\\]',' ',inplace=True,regex=True)\n",
    "wordlist = filter(None, \" \".join(list(set(list(itertools.chain(*textData[0].str.split(' ')))))).split(\" \"))\n",
    "data['stemmed_text_data'] = [' '.join(filter(None,filter(lambda word: word not in stop, line))) for line in textData[0].str.lower().str.split(' ')]"
   ]
  },
  {
   "cell_type": "code",
   "execution_count": 19,
   "metadata": {},
   "outputs": [],
   "source": [
    "# remove all words that don't occur at least 5 times and then stem the resulting docs\n",
    "minimum_count = 1\n",
    "str_frequencies = pd.DataFrame(list(Counter(filter(None,list(itertools.chain(*data['stemmed_text_data'].str.split(' '))))).items()),columns=['word','count'])\n",
    "low_frequency_words = set(str_frequencies[str_frequencies['count'] < minimum_count]['word'])\n",
    "data['stemmed_text_data'] = [' '.join(filter(None,filter(lambda word: word not in low_frequency_words, line))) for line in data['stemmed_text_data'].str.split(' ')]\n",
    "data['stemmed_text_data'] = [\" \".join(stemmer.stemWords(re.sub('[!\"#%\\'()*+,-./:;<=>?@\\[\\]^_`{|}~1234567890’”“′‘\\\\\\]',' ', next_text).split(' '))) for next_text in data['stemmed_text_data']]    "
   ]
  },
  {
   "cell_type": "code",
   "execution_count": 20,
   "metadata": {},
   "outputs": [],
   "source": [
    "lmtzr = WordNetLemmatizer()\n",
    "w = re.compile(\"\\w+\",re.I)\n",
    "\n",
    "def label_sentences(df, input_point):\n",
    "    labeled_sentences = []\n",
    "    list_sen = []\n",
    "    for index, datapoint in df.iterrows():\n",
    "        tokenized_words = re.findall(w,datapoint[input_point].lower())\n",
    "        labeled_sentences.append(LabeledSentence(words=tokenized_words, tags=['SENT_%s' %index]))\n",
    "        list_sen.append(tokenized_words)\n",
    "    return labeled_sentences, list_sen\n",
    "\n",
    "def train_doc2vec_model(labeled_sentences):\n",
    "    model = Doc2Vec(min_count=1, window=9, vector_size=512, sample=1e-4, negative=5, workers=7)\n",
    "    model.build_vocab(labeled_sentences)\n",
    "    pretrained_weights = model.wv.vectors\n",
    "    vocab_size, embedding_size = pretrained_weights.shape\n",
    "    model.train(labeled_sentences, total_examples=vocab_size, epochs=400)\n",
    "    \n",
    "    return model"
   ]
  },
  {
   "cell_type": "code",
   "execution_count": 21,
   "metadata": {},
   "outputs": [],
   "source": [
    "textData = data['stemmed_text_data'].to_frame().reset_index()\n",
    "sen, corpus = label_sentences(textData, 'stemmed_text_data')"
   ]
  },
  {
   "cell_type": "code",
   "execution_count": 22,
   "metadata": {},
   "outputs": [],
   "source": [
    "doc2vec_model = train_doc2vec_model(sen)"
   ]
  },
  {
   "cell_type": "code",
   "execution_count": 23,
   "metadata": {},
   "outputs": [],
   "source": [
    "doc2vec_model.save(\"doc2vec_model_opinion_corpus.d2v\")"
   ]
  },
  {
   "cell_type": "code",
   "execution_count": 24,
   "metadata": {},
   "outputs": [],
   "source": [
    "doc2vec_model = Doc2Vec.load(\"doc2vec_model_opinion_corpus.d2v\") "
   ]
  },
  {
   "cell_type": "code",
   "execution_count": 25,
   "metadata": {},
   "outputs": [
    {
     "name": "stderr",
     "output_type": "stream",
     "text": [
      "d:\\Aplikasi\\Program\\python\\lib\\site-packages\\sklearn\\feature_extraction\\text.py:525: UserWarning: The parameter 'token_pattern' will not be used since 'tokenizer' is not None'\n",
      "  warnings.warn(\n"
     ]
    }
   ],
   "source": [
    "from sklearn.feature_extraction.text import TfidfVectorizer\n",
    "from sklearn.decomposition import TruncatedSVD\n",
    "\n",
    "tfidf1 = TfidfVectorizer(tokenizer=lambda i:i, lowercase=False, ngram_range=(1,1))\n",
    "result_train1 = tfidf1.fit_transform(corpus)\n",
    "\n",
    "tfidf2 = TfidfVectorizer(tokenizer=lambda i:i, lowercase=False, ngram_range=(1,2))\n",
    "result_train2 = tfidf2.fit_transform(corpus)\n",
    "\n",
    "tfidf3 = TfidfVectorizer(tokenizer=lambda i:i, lowercase=False, ngram_range=(1,3))\n",
    "result_train3 = tfidf3.fit_transform(corpus)\n",
    "\n",
    "svd = TruncatedSVD(n_components=512, n_iter=40, random_state=34)\n",
    "tfidf_data1 = svd.fit_transform(result_train1)\n",
    "tfidf_data2 = svd.fit_transform(result_train2)\n",
    "tfidf_data3 = svd.fit_transform(result_train3)"
   ]
  },
  {
   "cell_type": "code",
   "execution_count": 26,
   "metadata": {},
   "outputs": [],
   "source": [
    "from sklearn.feature_extraction.text import CountVectorizer\n",
    "import spacy\n",
    "\n",
    "nlp = spacy.load('en_core_web_sm')\n",
    "temp_textData = pd.DataFrame(list(data['text']))\n",
    "\n",
    "overall_pos_tags_tokens = []\n",
    "overall_pos = []\n",
    "overall_tokens = []\n",
    "overall_dep = []\n",
    "\n",
    "for i in range(1600):\n",
    "    doc = nlp(temp_textData[0][i])\n",
    "    given_pos_tags_tokens = []\n",
    "    given_pos = []\n",
    "    given_tokens = []\n",
    "    given_dep = []\n",
    "    for token in doc:\n",
    "        output = \"%s_%s\" % (token.pos_, token.tag_)\n",
    "        given_pos_tags_tokens.append(output)\n",
    "        given_pos.append(token.pos_)\n",
    "        given_tokens.append(token.tag_)\n",
    "        given_dep.append(token.dep_)\n",
    "        \n",
    "    overall_pos_tags_tokens.append(given_pos_tags_tokens)\n",
    "    overall_pos.append(given_pos)\n",
    "    overall_tokens.append(given_tokens)\n",
    "    overall_dep.append(given_dep)\n"
   ]
  },
  {
   "cell_type": "code",
   "execution_count": 27,
   "metadata": {},
   "outputs": [
    {
     "name": "stderr",
     "output_type": "stream",
     "text": [
      "d:\\Aplikasi\\Program\\python\\lib\\site-packages\\sklearn\\feature_extraction\\text.py:525: UserWarning: The parameter 'token_pattern' will not be used since 'tokenizer' is not None'\n",
      "  warnings.warn(\n"
     ]
    }
   ],
   "source": [
    "from sklearn.preprocessing import MinMaxScaler\n",
    "\n",
    "count = CountVectorizer(tokenizer=lambda i:i, lowercase=False)\n",
    "pos_tags_data = count.fit_transform(overall_pos_tags_tokens).todense()\n",
    "pos_data = count.fit_transform(overall_pos).todense()\n",
    "tokens_data = count.fit_transform(overall_tokens).todense()\n",
    "dep_data = count.fit_transform(overall_dep).todense()\n",
    "min_max_scaler = MinMaxScaler()\n",
    "normalized_pos_tags_data = min_max_scaler.fit_transform(np.asarray(pos_tags_data))\n",
    "normalized_pos_data = min_max_scaler.fit_transform(np.asarray(pos_data))\n",
    "normalized_tokens_data = min_max_scaler.fit_transform(np.asarray(tokens_data))\n",
    "normalized_dep_data = min_max_scaler.fit_transform(np.asarray(dep_data))\n",
    "\n",
    "final_pos_tags_data = np.zeros(shape=(1600, 512)).astype(np.float32)\n",
    "final_pos_data = np.zeros(shape=(1600, 512)).astype(np.float32)\n",
    "final_tokens_data = np.zeros(shape=(1600, 512)).astype(np.float32)\n",
    "final_dep_data = np.zeros(shape=(1600, 512)).astype(np.float32)\n",
    "final_pos_tags_data[:normalized_pos_tags_data.shape[0],:normalized_pos_tags_data.shape[1]] = normalized_pos_tags_data\n",
    "final_pos_data[:normalized_pos_data.shape[0],:normalized_pos_data.shape[1]] = normalized_pos_data\n",
    "final_tokens_data[:normalized_tokens_data.shape[0],:normalized_tokens_data.shape[1]] = normalized_tokens_data\n",
    "final_dep_data[:normalized_dep_data.shape[0],:normalized_dep_data.shape[1]] = normalized_dep_data"
   ]
  },
  {
   "cell_type": "code",
   "execution_count": 28,
   "metadata": {},
   "outputs": [
    {
     "name": "stdout",
     "output_type": "stream",
     "text": [
      "370\n"
     ]
    }
   ],
   "source": [
    "maxlength = []\n",
    "for i in range(0,len(sen)):\n",
    "    maxlength.append(len(sen[i][0]))\n",
    "    \n",
    "print(max(maxlength))   "
   ]
  },
  {
   "cell_type": "code",
   "execution_count": 29,
   "metadata": {},
   "outputs": [
    {
     "name": "stdout",
     "output_type": "stream",
     "text": [
      "   index                                  stemmed_text_data  \\\n",
      "0      0  stay night getaway famili thursday tripl aaa r...   \n",
      "1      1  tripl rate upgrad view room less $ includ brea...   \n",
      "\n",
      "                                 vectorized_comments  \n",
      "0  [0.07601746, -0.4517467, 0.63034666, 0.1424411...  \n",
      "1  [-0.0065358384, -0.22216755, 0.3980428, -0.020...  \n"
     ]
    },
    {
     "name": "stderr",
     "output_type": "stream",
     "text": [
      "C:\\Users\\axioo\\AppData\\Local\\Temp\\ipykernel_13256\\1247476273.py:6: DeprecationWarning: Call to deprecated `docvecs` (The `docvecs` property has been renamed `dv`.).\n",
      "  comments.append(d2v_model.docvecs[label])\n"
     ]
    }
   ],
   "source": [
    "def vectorize_comments(df,d2v_model):\n",
    "    y = []\n",
    "    comments = []\n",
    "    for i in range(0,df.shape[0]):\n",
    "        label = 'SENT_%s' %i\n",
    "        comments.append(d2v_model.docvecs[label])\n",
    "    df['vectorized_comments'] = comments\n",
    "    \n",
    "    return df\n",
    "\n",
    "textData = vectorize_comments(textData,doc2vec_model)\n",
    "print (textData.head(2))"
   ]
  },
  {
   "cell_type": "code",
   "execution_count": 30,
   "metadata": {},
   "outputs": [],
   "source": [
    "from sklearn.model_selection import train_test_split\n",
    "from sklearn.model_selection import cross_validate,GridSearchCV \n",
    "\n",
    "X_train, X_test, y_train, y_test = train_test_split(textData[\"vectorized_comments\"].T.tolist(), \n",
    "                                                                     dummy_y, \n",
    "                                                                     test_size=0.1, \n",
    "                                                                     random_state=56)"
   ]
  },
  {
   "cell_type": "code",
   "execution_count": 31,
   "metadata": {},
   "outputs": [],
   "source": [
    "X = np.array(textData[\"vectorized_comments\"].T.tolist()).reshape((1,1600,512))\n",
    "y = np.array(dummy_y).reshape((1600,4))\n",
    "X_train2 = np.array(X_train).reshape((1,1440,512))\n",
    "y_train2 = np.array(y_train).reshape((1,1440,4))\n",
    "X_test2 = np.array(X_test).reshape((1,160,512))\n",
    "y_test2 = np.array(y_test).reshape((1,160,4))"
   ]
  },
  {
   "cell_type": "code",
   "execution_count": 32,
   "metadata": {},
   "outputs": [],
   "source": [
    "from sklearn.model_selection import StratifiedKFold\n",
    "Xtemp = textData[\"vectorized_comments\"].T.tolist()\n",
    "ytemp = data['given_class']\n",
    "training_indices = []\n",
    "testing_indices = []\n",
    "\n",
    "skf = StratifiedKFold(n_splits=10)\n",
    "skf.get_n_splits(Xtemp, ytemp)\n",
    "\n",
    "for train_index, test_index in skf.split(Xtemp, ytemp):\n",
    "    training_indices.append(train_index)\n",
    "    testing_indices.append(test_index)"
   ]
  },
  {
   "cell_type": "code",
   "execution_count": 33,
   "metadata": {},
   "outputs": [],
   "source": [
    "def extractTrainingAndTestingData(givenIndex):\n",
    "    X_train3 = np.zeros(shape=(1440, max(maxlength)+10, 512)).astype(np.float32)\n",
    "    Y_train3 = np.zeros(shape=(1440, 4)).astype(np.float32)\n",
    "    X_test3 = np.zeros(shape=(160, max(maxlength)+10, 512)).astype(np.float32)\n",
    "    Y_test3 = np.zeros(shape=(160, 4)).astype(np.float32)\n",
    "\n",
    "    empty_word = np.zeros(512).astype(np.float32)\n",
    "\n",
    "    count_i = 0\n",
    "    for i in training_indices[givenIndex]:\n",
    "        len1 = len(sen[i][0])\n",
    "        average_vector1 = np.zeros(512).astype(np.float32)\n",
    "        average_vector2 = np.zeros(512).astype(np.float32)\n",
    "        average_vector3 = np.zeros(512).astype(np.float32)\n",
    "        for j in range(max(maxlength)+10):\n",
    "            if j < len1:\n",
    "                X_train3[count_i,j,:] = doc2vec_model[sen[i][0][j]]\n",
    "                average_vector1 += result_train1[i, tfidf1.vocabulary_[sen[i][0][j]]] * doc2vec_model[sen[i][0][j]]\n",
    "                average_vector2 += result_train2[i, tfidf2.vocabulary_[sen[i][0][j]]] * doc2vec_model[sen[i][0][j]]\n",
    "                average_vector3 += result_train3[i, tfidf3.vocabulary_[sen[i][0][j]]] * doc2vec_model[sen[i][0][j]]\n",
    "            #elif j >= len1 and j < len1 + 379:\n",
    "            #    X_train3[count_i,j,:] = glove_data[i, j-len1, :]\n",
    "            elif j == len1:\n",
    "                X_train3[count_i,j,:] = tfidf_data1[i]\n",
    "            elif j == len1 + 1:\n",
    "                X_train3[count_i,j,:] = tfidf_data2[i]\n",
    "            elif j == len1+2:\n",
    "                X_train3[count_i,j,:] = tfidf_data3[i]\n",
    "            elif j == len1+3:\n",
    "                X_train3[count_i,j,:] = average_vector1\n",
    "            elif j == len1+4:\n",
    "                X_train3[count_i,j,:] = average_vector2\n",
    "            elif j == len1+5:\n",
    "                X_train3[count_i,j,:] = average_vector3\n",
    "            elif j == len1+6:\n",
    "                X_train3[count_i,j,:] = final_pos_tags_data[i] \n",
    "            elif j == len1+7:\n",
    "                X_train3[count_i,j,:] = final_pos_data[i]\n",
    "            elif j == len1+8:\n",
    "                X_train3[count_i,j,:] = final_tokens_data[i]\n",
    "            elif j == len1+9:\n",
    "                X_train3[count_i,j,:] = final_dep_data[i]\n",
    "            else:\n",
    "                X_train3[count_i,j,:] = empty_word\n",
    "\n",
    "        Y_train3[count_i,:] = dummy_y[i]\n",
    "        count_i += 1\n",
    "\n",
    "\n",
    "    count_i = 0\n",
    "    for i in testing_indices[givenIndex]:\n",
    "        len1 = len(sen[i][0])\n",
    "        average_vector1 = np.zeros(512).astype(np.float32)\n",
    "        average_vector2 = np.zeros(512).astype(np.float32)\n",
    "        average_vector3 = np.zeros(512).astype(np.float32)\n",
    "        for j in range(max(maxlength)+10):\n",
    "            if j < len1:\n",
    "                X_test3[count_i,j,:] = doc2vec_model[sen[i][0][j]]\n",
    "                average_vector1 += result_train1[i, tfidf1.vocabulary_[sen[i][0][j]]] * doc2vec_model[sen[i][0][j]]\n",
    "                average_vector2 += result_train2[i, tfidf2.vocabulary_[sen[i][0][j]]] * doc2vec_model[sen[i][0][j]]  \n",
    "                average_vector3 += result_train3[i, tfidf3.vocabulary_[sen[i][0][j]]] * doc2vec_model[sen[i][0][j]]\n",
    "            #elif j >= len1 and j < len1 + 379:\n",
    "            #    X_test3[count_i,j,:] = glove_data[i, j-len1, :]\n",
    "            elif j == len1:\n",
    "                X_test3[count_i,j,:] = tfidf_data1[i]\n",
    "            elif j == len1 + 1:\n",
    "                X_test3[count_i,j,:] = tfidf_data2[i]\n",
    "            elif j == len1+2:\n",
    "                X_test3[count_i,j,:] = tfidf_data3[i]\n",
    "            elif j == len1+3:\n",
    "                X_test3[count_i,j,:] = average_vector1\n",
    "            elif j == len1+4:\n",
    "                X_test3[count_i,j,:] = average_vector2\n",
    "            elif j == len1+5:\n",
    "                X_test3[count_i,j,:] = average_vector3\n",
    "            elif j == len1+6:\n",
    "                X_test3[count_i,j,:] = final_pos_tags_data[i]\n",
    "            elif j == len1+7:\n",
    "                X_test3[count_i,j,:] = final_pos_data[i]\n",
    "            elif j == len1+8:\n",
    "                X_test3[count_i,j,:] = final_tokens_data[i]\n",
    "            elif j == len1+9:\n",
    "                X_test3[count_i,j,:] = final_dep_data[i]\n",
    "            else:\n",
    "                X_test3[count_i,j,:] = empty_word\n",
    "\n",
    "        Y_test3[count_i,:] = dummy_y[i]\n",
    "        count_i += 1\n",
    "        \n",
    "    return X_train3, X_test3, Y_train3, Y_test3\n",
    "    "
   ]
  },
  {
   "cell_type": "code",
   "execution_count": 34,
   "metadata": {},
   "outputs": [
    {
     "name": "stdout",
     "output_type": "stream",
     "text": [
      "WARNING:tensorflow:From d:\\Aplikasi\\Program\\python\\lib\\site-packages\\keras\\src\\backend.py:873: The name tf.get_default_graph is deprecated. Please use tf.compat.v1.get_default_graph instead.\n",
      "\n",
      "WARNING:tensorflow:From d:\\Aplikasi\\Program\\python\\lib\\site-packages\\keras\\src\\backend.py:6642: The name tf.nn.max_pool is deprecated. Please use tf.nn.max_pool2d instead.\n",
      "\n",
      "WARNING:tensorflow:From d:\\Aplikasi\\Program\\python\\lib\\site-packages\\keras\\src\\optimizers\\__init__.py:309: The name tf.train.Optimizer is deprecated. Please use tf.compat.v1.train.Optimizer instead.\n",
      "\n",
      "Model: \"sequential\"\n",
      "_________________________________________________________________\n",
      " Layer (type)                Output Shape              Param #   \n",
      "=================================================================\n",
      " conv1d (Conv1D)             (None, 380, 128)          589952    \n",
      "                                                                 \n",
      " dropout (Dropout)           (None, 380, 128)          0         \n",
      "                                                                 \n",
      " max_pooling1d (MaxPooling1  (None, 190, 128)          0         \n",
      " D)                                                              \n",
      "                                                                 \n",
      " dropout_1 (Dropout)         (None, 190, 128)          0         \n",
      "                                                                 \n",
      " conv1d_1 (Conv1D)           (None, 190, 128)          114816    \n",
      "                                                                 \n",
      " dropout_2 (Dropout)         (None, 190, 128)          0         \n",
      "                                                                 \n",
      " max_pooling1d_1 (MaxPoolin  (None, 95, 128)           0         \n",
      " g1D)                                                            \n",
      "                                                                 \n",
      " dropout_3 (Dropout)         (None, 95, 128)           0         \n",
      "                                                                 \n",
      " conv1d_2 (Conv1D)           (None, 95, 128)           82048     \n",
      "                                                                 \n",
      " dropout_4 (Dropout)         (None, 95, 128)           0         \n",
      "                                                                 \n",
      " bidirectional (Bidirection  (None, 100)               71600     \n",
      " al)                                                             \n",
      "                                                                 \n",
      " dense (Dense)               (None, 4)                 404       \n",
      "                                                                 \n",
      "=================================================================\n",
      "Total params: 858820 (3.28 MB)\n",
      "Trainable params: 858820 (3.28 MB)\n",
      "Non-trainable params: 0 (0.00 Byte)\n",
      "_________________________________________________________________\n",
      "None\n"
     ]
    }
   ],
   "source": [
    "model = Sequential()\n",
    "model.add(Conv1D(filters=128, kernel_size=9, padding='same', activation='relu', input_shape=(max(maxlength)+10,512)))\n",
    "model.add(Dropout(0.25))\n",
    "model.add(MaxPooling1D(pool_size=2))\n",
    "model.add(Dropout(0.25))\n",
    "model.add(Conv1D(filters=128, kernel_size=7, padding='same', activation='relu'))\n",
    "model.add(Dropout(0.25))\n",
    "model.add(MaxPooling1D(pool_size=2))\n",
    "model.add(Dropout(0.25))\n",
    "model.add(Conv1D(filters=128, kernel_size=5, padding='same', activation='relu'))\n",
    "model.add(Dropout(0.25))\n",
    "#model.add(MaxPooling1D(pool_size=2))\n",
    "#model.add(Dropout(0.25))\n",
    "#model.add(Conv1D(filters=32, kernel_size=2, padding='same', activation='relu'))\n",
    "#model.add(Dropout(0.25))\n",
    "#model.add(MaxPooling1D(pool_size=2))\n",
    "#model.add(Dropout(0.25))\n",
    "\n",
    "#model.add(Bidirectional(LSTM(50, dropout=0.3, recurrent_dropout=0.2, return_sequences=True)))\n",
    "model.add(Bidirectional(LSTM(50, dropout=0.25, recurrent_dropout=0.2)))\n",
    "model.add(Dense(4, activation='softmax'))\n",
    "model.compile(loss='binary_crossentropy', optimizer='Adam', metrics=['accuracy'])\n",
    "print(model.summary())"
   ]
  },
  {
   "cell_type": "code",
   "execution_count": 35,
   "metadata": {},
   "outputs": [],
   "source": [
    "from sklearn.metrics import accuracy_score\n",
    "from keras.callbacks import ModelCheckpoint \n",
    "\n",
    "final_accuracies = []\n",
    "    \n",
    "filename = 'weights.best.from_scratch%s.hdf5' % 9\n",
    "checkpointer = ModelCheckpoint(filepath=filename, verbose=1, save_best_only=True)\n",
    "X_train3, X_test3, Y_train3, Y_test3 = extractTrainingAndTestingData(9)"
   ]
  },
  {
   "cell_type": "code",
   "execution_count": 36,
   "metadata": {},
   "outputs": [
    {
     "name": "stdout",
     "output_type": "stream",
     "text": [
      "Epoch 1/5\n",
      "WARNING:tensorflow:From d:\\Aplikasi\\Program\\python\\lib\\site-packages\\keras\\src\\utils\\tf_utils.py:492: The name tf.ragged.RaggedTensorValue is deprecated. Please use tf.compat.v1.ragged.RaggedTensorValue instead.\n",
      "\n",
      "WARNING:tensorflow:From d:\\Aplikasi\\Program\\python\\lib\\site-packages\\keras\\src\\engine\\base_layer_utils.py:384: The name tf.executing_eagerly_outside_functions is deprecated. Please use tf.compat.v1.executing_eagerly_outside_functions instead.\n",
      "\n",
      "3/3 [==============================] - ETA: 0s - loss: 0.6116 - accuracy: 0.2639\n",
      "Epoch 1: val_loss improved from inf to 0.56189, saving model to weights.best.from_scratch9.hdf5\n"
     ]
    },
    {
     "name": "stderr",
     "output_type": "stream",
     "text": [
      "d:\\Aplikasi\\Program\\python\\lib\\site-packages\\keras\\src\\engine\\training.py:3103: UserWarning: You are saving your model as an HDF5 file via `model.save()`. This file format is considered legacy. We recommend using instead the native Keras format, e.g. `model.save('my_model.keras')`.\n",
      "  saving_api.save_model(\n"
     ]
    },
    {
     "name": "stdout",
     "output_type": "stream",
     "text": [
      "3/3 [==============================] - 39s 10s/step - loss: 0.6116 - accuracy: 0.2639 - val_loss: 0.5619 - val_accuracy: 0.2188\n",
      "Epoch 2/5\n",
      "3/3 [==============================] - ETA: 0s - loss: 0.5660 - accuracy: 0.2632\n",
      "Epoch 2: val_loss did not improve from 0.56189\n",
      "3/3 [==============================] - 16s 5s/step - loss: 0.5660 - accuracy: 0.2632 - val_loss: 0.5654 - val_accuracy: 0.2500\n",
      "Epoch 3/5\n",
      "3/3 [==============================] - ETA: 0s - loss: 0.5620 - accuracy: 0.2924\n",
      "Epoch 3: val_loss improved from 0.56189 to 0.56080, saving model to weights.best.from_scratch9.hdf5\n",
      "3/3 [==============================] - 16s 5s/step - loss: 0.5620 - accuracy: 0.2924 - val_loss: 0.5608 - val_accuracy: 0.2500\n",
      "Epoch 4/5\n",
      "3/3 [==============================] - ETA: 0s - loss: 0.5579 - accuracy: 0.3229\n",
      "Epoch 4: val_loss improved from 0.56080 to 0.54256, saving model to weights.best.from_scratch9.hdf5\n",
      "3/3 [==============================] - 16s 5s/step - loss: 0.5579 - accuracy: 0.3229 - val_loss: 0.5426 - val_accuracy: 0.4313\n",
      "Epoch 5/5\n",
      "3/3 [==============================] - ETA: 0s - loss: 0.5479 - accuracy: 0.3660\n",
      "Epoch 5: val_loss improved from 0.54256 to 0.52110, saving model to weights.best.from_scratch9.hdf5\n",
      "3/3 [==============================] - 16s 5s/step - loss: 0.5479 - accuracy: 0.3660 - val_loss: 0.5211 - val_accuracy: 0.4938\n"
     ]
    }
   ],
   "source": [
    "history = model.fit(X_train3, Y_train3, epochs=5, batch_size=512, callbacks=[checkpointer], validation_data=(X_test3, Y_test3), verbose=1)"
   ]
  },
  {
   "cell_type": "code",
   "execution_count": 37,
   "metadata": {},
   "outputs": [
    {
     "name": "stdout",
     "output_type": "stream",
     "text": [
      "5/5 [==============================] - 1s 105ms/step - loss: 0.5211 - accuracy: 0.4938\n"
     ]
    },
    {
     "data": {
      "text/plain": [
       "[0.5210990309715271, 0.4937500059604645]"
      ]
     },
     "execution_count": 37,
     "metadata": {},
     "output_type": "execute_result"
    }
   ],
   "source": [
    "model.evaluate(X_test3, Y_test3)"
   ]
  },
  {
   "cell_type": "code",
   "execution_count": 38,
   "metadata": {},
   "outputs": [],
   "source": [
    "import matplotlib.pyplot as plt"
   ]
  },
  {
   "cell_type": "code",
   "execution_count": 39,
   "metadata": {},
   "outputs": [
    {
     "data": {
      "image/png": "[encoded data removed]",
      "text/plain": [
       "<Figure size 640x480 with 1 Axes>"
      ]
     },
     "metadata": {},
     "output_type": "display_data"
    },
    {
     "data": {
      "image/png": "[encoded data removed]",
      "text/plain": [
       "<Figure size 640x480 with 1 Axes>"
      ]
     },
     "metadata": {},
     "output_type": "display_data"
    }
   ],
   "source": [
    "# Plot training & validation accuracy values\n",
    "plt.plot(history.history['accuracy'])  # use 'accuracy' instead of 'acc'\n",
    "plt.plot(history.history['val_accuracy'])  # use 'val_accuracy' instead of 'val_acc'\n",
    "plt.title('Model accuracy')\n",
    "plt.ylabel('Accuracy')\n",
    "plt.xlabel('Epoch')\n",
    "plt.legend(['Train', 'Test'], loc='upper left')\n",
    "plt.show()\n",
    "\n",
    "# Plot training & validation loss values\n",
    "plt.plot(history.history['loss'])\n",
    "plt.plot(history.history['val_loss'])\n",
    "plt.title('Model loss')\n",
    "plt.ylabel('Loss')\n",
    "plt.xlabel('Epoch')\n",
    "plt.legend(['Train', 'Test'], loc='upper left')\n",
    "plt.show()"
   ]
  }
 ],
 "metadata": {
  "kernelspec": {
   "display_name": "Python 3",
   "language": "python",
   "name": "python3"
  },
  "language_info": {
   "codemirror_mode": {
    "name": "ipython",
    "version": 3
   },
   "file_extension": ".py",
   "mimetype": "text/x-python",
   "name": "python",
   "nbconvert_exporter": "python",
   "pygments_lexer": "ipython3",
   "version": "3.9.12"
  }
 },
 "nbformat": 4,
 "nbformat_minor": 2
}
